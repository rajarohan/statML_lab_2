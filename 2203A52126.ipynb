{
  "nbformat": 4,
  "nbformat_minor": 0,
  "metadata": {
    "colab": {
      "provenance": []
    },
    "kernelspec": {
      "name": "python3",
      "display_name": "Python 3"
    },
    "language_info": {
      "name": "python"
    }
  },
  "cells": [
    {
      "cell_type": "code",
      "execution_count": 4,
      "metadata": {
        "colab": {
          "base_uri": "https://localhost:8080/"
        },
        "id": "WlU8tLOYyhAe",
        "outputId": "ae11d30d-d7a9-4041-be90-5b6f6a538600"
      },
      "outputs": [
        {
          "output_type": "stream",
          "name": "stdout",
          "text": [
            "0      4512\n",
            "1      3738\n",
            "2      4261\n",
            "3      3777\n",
            "4      4177\n",
            "       ... \n",
            "232    3214\n",
            "233    3394\n",
            "234    3233\n",
            "235    3352\n",
            "236    3391\n",
            "Name: Head Size(cm^3), Length: 237, dtype: int64\n",
            "2720\n",
            "4747\n",
            "0      0.884065\n",
            "1      0.502220\n",
            "2      0.760237\n",
            "3      0.521460\n",
            "4      0.718796\n",
            "         ...   \n",
            "232    0.243710\n",
            "233    0.332511\n",
            "234    0.253083\n",
            "235    0.311791\n",
            "236    0.331031\n",
            "Name: Head Size(cm^3), Length: 237, dtype: float64\n"
          ]
        }
      ],
      "source": [
        "import numpy as np\n",
        "import pandas as pd\n",
        "head=pd.read_csv('/content/head.csv')\n",
        "head_size=head['Head Size(cm^3)']\n",
        "print(head_size)\n",
        "print(min(head_size))\n",
        "print(max(head_size))\n",
        "print((head_size-min(head_size))/(max(head_size)-min(head_size)))"
      ]
    },
    {
      "cell_type": "code",
      "source": [
        "import numpy as np\n",
        "import pandas as pd\n",
        "a=pd.read_csv('/content/housing.csv')\n",
        "print(a.describe())\n",
        "print(type(a))\n",
        "print(a.shape)\n",
        "b=a.fillna(0)\n",
        "print(b.isnull())"
      ],
      "metadata": {
        "colab": {
          "base_uri": "https://localhost:8080/"
        },
        "id": "X67VuNeszUxF",
        "outputId": "77e7c956-d1a8-4137-b14d-43745e2e5a81"
      },
      "execution_count": 5,
      "outputs": [
        {
          "output_type": "stream",
          "name": "stdout",
          "text": [
            "          longitude      latitude  housing_median_age   total_rooms  \\\n",
            "count  20640.000000  20640.000000        20640.000000  20640.000000   \n",
            "mean    -119.569704     35.631861           28.639486   2635.763081   \n",
            "std        2.003532      2.135952           12.585558   2181.615252   \n",
            "min     -124.350000     32.540000            1.000000      2.000000   \n",
            "25%     -121.800000     33.930000           18.000000   1447.750000   \n",
            "50%     -118.490000     34.260000           29.000000   2127.000000   \n",
            "75%     -118.010000     37.710000           37.000000   3148.000000   \n",
            "max     -114.310000     41.950000           52.000000  39320.000000   \n",
            "\n",
            "       total_bedrooms    population    households  median_income  \\\n",
            "count    20433.000000  20640.000000  20640.000000   20640.000000   \n",
            "mean       537.870553   1425.476744    499.539680       3.870671   \n",
            "std        421.385070   1132.462122    382.329753       1.899822   \n",
            "min          1.000000      3.000000      1.000000       0.499900   \n",
            "25%        296.000000    787.000000    280.000000       2.563400   \n",
            "50%        435.000000   1166.000000    409.000000       3.534800   \n",
            "75%        647.000000   1725.000000    605.000000       4.743250   \n",
            "max       6445.000000  35682.000000   6082.000000      15.000100   \n",
            "\n",
            "       median_house_value  \n",
            "count        20640.000000  \n",
            "mean        206855.816909  \n",
            "std         115395.615874  \n",
            "min          14999.000000  \n",
            "25%         119600.000000  \n",
            "50%         179700.000000  \n",
            "75%         264725.000000  \n",
            "max         500001.000000  \n",
            "<class 'pandas.core.frame.DataFrame'>\n",
            "(20640, 10)\n",
            "       longitude  latitude  housing_median_age  total_rooms  total_bedrooms  \\\n",
            "0          False     False               False        False           False   \n",
            "1          False     False               False        False           False   \n",
            "2          False     False               False        False           False   \n",
            "3          False     False               False        False           False   \n",
            "4          False     False               False        False           False   \n",
            "...          ...       ...                 ...          ...             ...   \n",
            "20635      False     False               False        False           False   \n",
            "20636      False     False               False        False           False   \n",
            "20637      False     False               False        False           False   \n",
            "20638      False     False               False        False           False   \n",
            "20639      False     False               False        False           False   \n",
            "\n",
            "       population  households  median_income  median_house_value  \\\n",
            "0           False       False          False               False   \n",
            "1           False       False          False               False   \n",
            "2           False       False          False               False   \n",
            "3           False       False          False               False   \n",
            "4           False       False          False               False   \n",
            "...           ...         ...            ...                 ...   \n",
            "20635       False       False          False               False   \n",
            "20636       False       False          False               False   \n",
            "20637       False       False          False               False   \n",
            "20638       False       False          False               False   \n",
            "20639       False       False          False               False   \n",
            "\n",
            "       ocean_proximity  \n",
            "0                False  \n",
            "1                False  \n",
            "2                False  \n",
            "3                False  \n",
            "4                False  \n",
            "...                ...  \n",
            "20635            False  \n",
            "20636            False  \n",
            "20637            False  \n",
            "20638            False  \n",
            "20639            False  \n",
            "\n",
            "[20640 rows x 10 columns]\n"
          ]
        }
      ]
    },
    {
      "cell_type": "code",
      "source": [
        "import numpy as np\n",
        "import pandas as pd\n",
        "from sklearn.preprocessing import MinMaxScaler\n",
        "from sklearn.model_selection import train_test_split\n",
        "a=pd.read_csv('/content/housing.csv')\n",
        "q = a.drop(\"median_house_value\", axis=1)\n",
        "x=q.drop(\"ocean_proximity\",axis=1)\n",
        "y= a[\"median_house_value\"]\n",
        "print(x)\n",
        "print(y)\n",
        "scaler = MinMaxScaler()\n",
        "scaler.fit(x)\n",
        "x_scaled = scaler.transform(x)\n",
        "print(x_scaled)"
      ],
      "metadata": {
        "colab": {
          "base_uri": "https://localhost:8080/"
        },
        "id": "JH_oTjoszkQI",
        "outputId": "f10cf38f-9fa0-43bd-c82d-06026c35375a"
      },
      "execution_count": 6,
      "outputs": [
        {
          "output_type": "stream",
          "name": "stdout",
          "text": [
            "       longitude  latitude  housing_median_age  total_rooms  total_bedrooms  \\\n",
            "0        -122.23     37.88                41.0        880.0           129.0   \n",
            "1        -122.22     37.86                21.0       7099.0          1106.0   \n",
            "2        -122.24     37.85                52.0       1467.0           190.0   \n",
            "3        -122.25     37.85                52.0       1274.0           235.0   \n",
            "4        -122.25     37.85                52.0       1627.0           280.0   \n",
            "...          ...       ...                 ...          ...             ...   \n",
            "20635    -121.09     39.48                25.0       1665.0           374.0   \n",
            "20636    -121.21     39.49                18.0        697.0           150.0   \n",
            "20637    -121.22     39.43                17.0       2254.0           485.0   \n",
            "20638    -121.32     39.43                18.0       1860.0           409.0   \n",
            "20639    -121.24     39.37                16.0       2785.0           616.0   \n",
            "\n",
            "       population  households  median_income  \n",
            "0           322.0       126.0         8.3252  \n",
            "1          2401.0      1138.0         8.3014  \n",
            "2           496.0       177.0         7.2574  \n",
            "3           558.0       219.0         5.6431  \n",
            "4           565.0       259.0         3.8462  \n",
            "...           ...         ...            ...  \n",
            "20635       845.0       330.0         1.5603  \n",
            "20636       356.0       114.0         2.5568  \n",
            "20637      1007.0       433.0         1.7000  \n",
            "20638       741.0       349.0         1.8672  \n",
            "20639      1387.0       530.0         2.3886  \n",
            "\n",
            "[20640 rows x 8 columns]\n",
            "0        452600.0\n",
            "1        358500.0\n",
            "2        352100.0\n",
            "3        341300.0\n",
            "4        342200.0\n",
            "           ...   \n",
            "20635     78100.0\n",
            "20636     77100.0\n",
            "20637     92300.0\n",
            "20638     84700.0\n",
            "20639     89400.0\n",
            "Name: median_house_value, Length: 20640, dtype: float64\n",
            "[[0.21115538 0.5674814  0.78431373 ... 0.00894083 0.02055583 0.53966842]\n",
            " [0.21215139 0.565356   0.39215686 ... 0.0672104  0.18697583 0.53802706]\n",
            " [0.21015936 0.5642933  1.         ... 0.01381765 0.02894261 0.46602805]\n",
            " ...\n",
            " [0.31175299 0.73219979 0.31372549 ... 0.0281398  0.07104095 0.08276438]\n",
            " [0.30179283 0.73219979 0.33333333 ... 0.02068444 0.05722743 0.09429525]\n",
            " [0.30976096 0.72582359 0.29411765 ... 0.03879032 0.08699227 0.13025338]]\n"
          ]
        }
      ]
    }
  ]
}